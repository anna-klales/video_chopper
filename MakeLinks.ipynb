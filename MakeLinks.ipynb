{
 "cells": [
  {
   "cell_type": "code",
   "execution_count": 2,
   "metadata": {},
   "outputs": [],
   "source": [
    "import numpy as np\n",
    "import matplotlib.pyplot as plt\n",
    "import pandas as pd"
   ]
  },
  {
   "cell_type": "code",
   "execution_count": 4,
   "metadata": {},
   "outputs": [],
   "source": [
    "lecturenum = '9'\n",
    "\n",
    "filename = 'TimestampsLecture'+lecturenum+'.xlsx'\n",
    "\n",
    "df = pd.read_excel(filename)\n",
    "\n",
    "\n",
    "a = '<p><a href=\"'\n",
    "\n",
    "b = 'https://matterhorn.dce.harvard.edu/engage/player/watch.html?id=56f2005a-d953-4b3c-af9d-c024c26a3569'\n",
    "c = '&amp;start='\n",
    "d = '&amp;end='\n",
    "e = '\">'\n",
    "f = '</a></p>'\n",
    "pages = ' (Page ' + df['page'].astype(str)+')'\n",
    "# should be a+b+c+starttime+d+endtime+e+name+f\n",
    "\n",
    "\n",
    "df['starttime']=60*df.startmin+df.startsec\n",
    "df['endtime'] = 60*df.endmin+df.endsec\n",
    "#print(df['links'])\n",
    "\n",
    "df['htmlbits'] = a+b+c+df['starttime'].astype(str)+d+df['endtime'].astype(str)+e+df['name']+pages+f\n",
    "\n",
    "\n",
    "fileout = 'Lecture_'+lecturenum+'_Links.txt'\n",
    "with open(fileout, 'w') as f:\n",
    "    for text in df['htmlbits'].tolist():\n",
    "        f.write(text + '\\n')"
   ]
  },
  {
   "cell_type": "code",
   "execution_count": null,
   "metadata": {},
   "outputs": [],
   "source": []
  }
 ],
 "metadata": {
  "kernelspec": {
   "display_name": "Python 3",
   "language": "python",
   "name": "python3"
  },
  "language_info": {
   "codemirror_mode": {
    "name": "ipython",
    "version": 3
   },
   "file_extension": ".py",
   "mimetype": "text/x-python",
   "name": "python",
   "nbconvert_exporter": "python",
   "pygments_lexer": "ipython3",
   "version": "3.8.5"
  }
 },
 "nbformat": 4,
 "nbformat_minor": 4
}
